{
 "cells": [
  {
   "cell_type": "markdown",
   "id": "d9762e19",
   "metadata": {},
   "source": [
    "# Case Study: How Does a Bike-Share Navigate Speedy Success?\n",
    "\n",
    "This case study investigates the 12 months bike-share trip data. The key objective is to understand how casual riders and annual members use Cyclistic bikes differently. With these insights, the company could work on converting casual riders into members, which is crucial for the company's future success.\n",
    "\n",
    "## Data Cleaning\n",
    "\n",
    "This notebook works on exploratory data assessment and data cleaning. The source data contains 12 files in the folder. "
   ]
  },
  {
   "cell_type": "code",
   "execution_count": 1,
   "id": "524c4d28",
   "metadata": {},
   "outputs": [
    {
     "data": {
      "text/plain": [
       "'C:\\\\Projects\\\\google-data-analytics-cert\\\\capstone project'"
      ]
     },
     "execution_count": 1,
     "metadata": {},
     "output_type": "execute_result"
    }
   ],
   "source": [
    "import os\n",
    "import pandas as pd\n",
    "import numpy as np\n",
    "from datetime import timedelta\n",
    "import glob\n",
    "\n",
    "os.getcwd()"
   ]
  },
  {
   "cell_type": "code",
   "execution_count": 2,
   "id": "066f7068",
   "metadata": {},
   "outputs": [],
   "source": [
    "path = \"./data\" # use your path\n",
    "all_files = glob.glob(path + \"/*.csv\")\n",
    "\n",
    "li = []\n",
    "\n",
    "for filename in all_files:\n",
    "    df = pd.read_csv(filename, index_col=None)\n",
    "    li.append(df)\n",
    "\n",
    "frame = pd.concat(li, axis=0, ignore_index=True)"
   ]
  },
  {
   "cell_type": "code",
   "execution_count": 3,
   "id": "492421d8",
   "metadata": {},
   "outputs": [
    {
     "data": {
      "text/html": [
       "<div>\n",
       "<style scoped>\n",
       "    .dataframe tbody tr th:only-of-type {\n",
       "        vertical-align: middle;\n",
       "    }\n",
       "\n",
       "    .dataframe tbody tr th {\n",
       "        vertical-align: top;\n",
       "    }\n",
       "\n",
       "    .dataframe thead th {\n",
       "        text-align: right;\n",
       "    }\n",
       "</style>\n",
       "<table border=\"1\" class=\"dataframe\">\n",
       "  <thead>\n",
       "    <tr style=\"text-align: right;\">\n",
       "      <th></th>\n",
       "      <th>ride_id</th>\n",
       "      <th>rideable_type</th>\n",
       "      <th>started_at</th>\n",
       "      <th>ended_at</th>\n",
       "      <th>start_station_name</th>\n",
       "      <th>start_station_id</th>\n",
       "      <th>end_station_name</th>\n",
       "      <th>end_station_id</th>\n",
       "      <th>start_lat</th>\n",
       "      <th>start_lng</th>\n",
       "      <th>end_lat</th>\n",
       "      <th>end_lng</th>\n",
       "      <th>member_casual</th>\n",
       "    </tr>\n",
       "  </thead>\n",
       "  <tbody>\n",
       "    <tr>\n",
       "      <th>0</th>\n",
       "      <td>70B6A9A437D4C30D</td>\n",
       "      <td>classic_bike</td>\n",
       "      <td>2020-12-27 12:44:29</td>\n",
       "      <td>2020-12-27 12:55:06</td>\n",
       "      <td>Aberdeen St &amp; Jackson Blvd</td>\n",
       "      <td>13157</td>\n",
       "      <td>Desplaines St &amp; Kinzie St</td>\n",
       "      <td>TA1306000003</td>\n",
       "      <td>41.877726</td>\n",
       "      <td>-87.654787</td>\n",
       "      <td>41.888716</td>\n",
       "      <td>-87.644448</td>\n",
       "      <td>member</td>\n",
       "    </tr>\n",
       "    <tr>\n",
       "      <th>1</th>\n",
       "      <td>158A465D4E74C54A</td>\n",
       "      <td>electric_bike</td>\n",
       "      <td>2020-12-18 17:37:15</td>\n",
       "      <td>2020-12-18 17:44:19</td>\n",
       "      <td>NaN</td>\n",
       "      <td>NaN</td>\n",
       "      <td>NaN</td>\n",
       "      <td>NaN</td>\n",
       "      <td>41.930000</td>\n",
       "      <td>-87.700000</td>\n",
       "      <td>41.910000</td>\n",
       "      <td>-87.700000</td>\n",
       "      <td>member</td>\n",
       "    </tr>\n",
       "    <tr>\n",
       "      <th>2</th>\n",
       "      <td>5262016E0F1F2F9A</td>\n",
       "      <td>electric_bike</td>\n",
       "      <td>2020-12-15 15:04:33</td>\n",
       "      <td>2020-12-15 15:11:28</td>\n",
       "      <td>NaN</td>\n",
       "      <td>NaN</td>\n",
       "      <td>NaN</td>\n",
       "      <td>NaN</td>\n",
       "      <td>41.910000</td>\n",
       "      <td>-87.690000</td>\n",
       "      <td>41.930000</td>\n",
       "      <td>-87.700000</td>\n",
       "      <td>member</td>\n",
       "    </tr>\n",
       "    <tr>\n",
       "      <th>3</th>\n",
       "      <td>BE119628E44F871E</td>\n",
       "      <td>electric_bike</td>\n",
       "      <td>2020-12-15 15:54:18</td>\n",
       "      <td>2020-12-15 16:00:11</td>\n",
       "      <td>NaN</td>\n",
       "      <td>NaN</td>\n",
       "      <td>NaN</td>\n",
       "      <td>NaN</td>\n",
       "      <td>41.920000</td>\n",
       "      <td>-87.700000</td>\n",
       "      <td>41.910000</td>\n",
       "      <td>-87.700000</td>\n",
       "      <td>member</td>\n",
       "    </tr>\n",
       "    <tr>\n",
       "      <th>4</th>\n",
       "      <td>69AF78D57854E110</td>\n",
       "      <td>electric_bike</td>\n",
       "      <td>2020-12-22 12:08:17</td>\n",
       "      <td>2020-12-22 12:10:59</td>\n",
       "      <td>NaN</td>\n",
       "      <td>NaN</td>\n",
       "      <td>NaN</td>\n",
       "      <td>NaN</td>\n",
       "      <td>41.800000</td>\n",
       "      <td>-87.590000</td>\n",
       "      <td>41.800000</td>\n",
       "      <td>-87.590000</td>\n",
       "      <td>member</td>\n",
       "    </tr>\n",
       "  </tbody>\n",
       "</table>\n",
       "</div>"
      ],
      "text/plain": [
       "            ride_id  rideable_type           started_at             ended_at  \\\n",
       "0  70B6A9A437D4C30D   classic_bike  2020-12-27 12:44:29  2020-12-27 12:55:06   \n",
       "1  158A465D4E74C54A  electric_bike  2020-12-18 17:37:15  2020-12-18 17:44:19   \n",
       "2  5262016E0F1F2F9A  electric_bike  2020-12-15 15:04:33  2020-12-15 15:11:28   \n",
       "3  BE119628E44F871E  electric_bike  2020-12-15 15:54:18  2020-12-15 16:00:11   \n",
       "4  69AF78D57854E110  electric_bike  2020-12-22 12:08:17  2020-12-22 12:10:59   \n",
       "\n",
       "           start_station_name start_station_id           end_station_name  \\\n",
       "0  Aberdeen St & Jackson Blvd            13157  Desplaines St & Kinzie St   \n",
       "1                         NaN              NaN                        NaN   \n",
       "2                         NaN              NaN                        NaN   \n",
       "3                         NaN              NaN                        NaN   \n",
       "4                         NaN              NaN                        NaN   \n",
       "\n",
       "  end_station_id  start_lat  start_lng    end_lat    end_lng member_casual  \n",
       "0   TA1306000003  41.877726 -87.654787  41.888716 -87.644448        member  \n",
       "1            NaN  41.930000 -87.700000  41.910000 -87.700000        member  \n",
       "2            NaN  41.910000 -87.690000  41.930000 -87.700000        member  \n",
       "3            NaN  41.920000 -87.700000  41.910000 -87.700000        member  \n",
       "4            NaN  41.800000 -87.590000  41.800000 -87.590000        member  "
      ]
     },
     "execution_count": 3,
     "metadata": {},
     "output_type": "execute_result"
    }
   ],
   "source": [
    "frame.head()"
   ]
  },
  {
   "cell_type": "code",
   "execution_count": 4,
   "id": "fc59746b",
   "metadata": {},
   "outputs": [
    {
     "data": {
      "text/plain": [
       "(5479096, 13)"
      ]
     },
     "execution_count": 4,
     "metadata": {},
     "output_type": "execute_result"
    }
   ],
   "source": [
    "frame.shape"
   ]
  },
  {
   "cell_type": "markdown",
   "id": "32f86b08",
   "metadata": {},
   "source": [
    "There is no duplicated row found."
   ]
  },
  {
   "cell_type": "code",
   "execution_count": 5,
   "id": "1cac447c",
   "metadata": {},
   "outputs": [
    {
     "data": {
      "text/html": [
       "<div>\n",
       "<style scoped>\n",
       "    .dataframe tbody tr th:only-of-type {\n",
       "        vertical-align: middle;\n",
       "    }\n",
       "\n",
       "    .dataframe tbody tr th {\n",
       "        vertical-align: top;\n",
       "    }\n",
       "\n",
       "    .dataframe thead th {\n",
       "        text-align: right;\n",
       "    }\n",
       "</style>\n",
       "<table border=\"1\" class=\"dataframe\">\n",
       "  <thead>\n",
       "    <tr style=\"text-align: right;\">\n",
       "      <th></th>\n",
       "      <th>ride_id</th>\n",
       "      <th>rideable_type</th>\n",
       "      <th>started_at</th>\n",
       "      <th>ended_at</th>\n",
       "      <th>start_station_name</th>\n",
       "      <th>start_station_id</th>\n",
       "      <th>end_station_name</th>\n",
       "      <th>end_station_id</th>\n",
       "      <th>start_lat</th>\n",
       "      <th>start_lng</th>\n",
       "      <th>end_lat</th>\n",
       "      <th>end_lng</th>\n",
       "      <th>member_casual</th>\n",
       "    </tr>\n",
       "  </thead>\n",
       "  <tbody>\n",
       "  </tbody>\n",
       "</table>\n",
       "</div>"
      ],
      "text/plain": [
       "Empty DataFrame\n",
       "Columns: [ride_id, rideable_type, started_at, ended_at, start_station_name, start_station_id, end_station_name, end_station_id, start_lat, start_lng, end_lat, end_lng, member_casual]\n",
       "Index: []"
      ]
     },
     "execution_count": 5,
     "metadata": {},
     "output_type": "execute_result"
    }
   ],
   "source": [
    "frame[frame.duplicated()]"
   ]
  },
  {
   "cell_type": "markdown",
   "id": "bfad58ef",
   "metadata": {},
   "source": [
    "Convert time string to datetime data type, calculate trip time duration and the day of week."
   ]
  },
  {
   "cell_type": "code",
   "execution_count": 6,
   "id": "648e976c",
   "metadata": {},
   "outputs": [],
   "source": [
    "df = frame\n",
    "df[\"started_at\"] = pd.to_datetime(df[\"started_at\"], infer_datetime_format=True) \n",
    "df[\"ended_at\"] = pd.to_datetime(df[\"ended_at\"], infer_datetime_format=True) \n",
    "df[\"duration\"] = df[\"ended_at\"] - df[\"started_at\"]\n",
    "df[\"day_of_week\"] = df[\"started_at\"].dt.dayofweek+1"
   ]
  },
  {
   "cell_type": "code",
   "execution_count": 7,
   "id": "4fb8585a",
   "metadata": {},
   "outputs": [
    {
     "data": {
      "text/html": [
       "<div>\n",
       "<style scoped>\n",
       "    .dataframe tbody tr th:only-of-type {\n",
       "        vertical-align: middle;\n",
       "    }\n",
       "\n",
       "    .dataframe tbody tr th {\n",
       "        vertical-align: top;\n",
       "    }\n",
       "\n",
       "    .dataframe thead th {\n",
       "        text-align: right;\n",
       "    }\n",
       "</style>\n",
       "<table border=\"1\" class=\"dataframe\">\n",
       "  <thead>\n",
       "    <tr style=\"text-align: right;\">\n",
       "      <th></th>\n",
       "      <th>ride_id</th>\n",
       "      <th>rideable_type</th>\n",
       "      <th>started_at</th>\n",
       "      <th>ended_at</th>\n",
       "      <th>start_station_name</th>\n",
       "      <th>start_station_id</th>\n",
       "      <th>end_station_name</th>\n",
       "      <th>end_station_id</th>\n",
       "      <th>start_lat</th>\n",
       "      <th>start_lng</th>\n",
       "      <th>end_lat</th>\n",
       "      <th>end_lng</th>\n",
       "      <th>member_casual</th>\n",
       "      <th>duration</th>\n",
       "      <th>day_of_week</th>\n",
       "    </tr>\n",
       "  </thead>\n",
       "  <tbody>\n",
       "    <tr>\n",
       "      <th>0</th>\n",
       "      <td>70B6A9A437D4C30D</td>\n",
       "      <td>classic_bike</td>\n",
       "      <td>2020-12-27 12:44:29</td>\n",
       "      <td>2020-12-27 12:55:06</td>\n",
       "      <td>Aberdeen St &amp; Jackson Blvd</td>\n",
       "      <td>13157</td>\n",
       "      <td>Desplaines St &amp; Kinzie St</td>\n",
       "      <td>TA1306000003</td>\n",
       "      <td>41.877726</td>\n",
       "      <td>-87.654787</td>\n",
       "      <td>41.888716</td>\n",
       "      <td>-87.644448</td>\n",
       "      <td>member</td>\n",
       "      <td>00:10:37</td>\n",
       "      <td>7</td>\n",
       "    </tr>\n",
       "    <tr>\n",
       "      <th>1</th>\n",
       "      <td>158A465D4E74C54A</td>\n",
       "      <td>electric_bike</td>\n",
       "      <td>2020-12-18 17:37:15</td>\n",
       "      <td>2020-12-18 17:44:19</td>\n",
       "      <td>NaN</td>\n",
       "      <td>NaN</td>\n",
       "      <td>NaN</td>\n",
       "      <td>NaN</td>\n",
       "      <td>41.930000</td>\n",
       "      <td>-87.700000</td>\n",
       "      <td>41.910000</td>\n",
       "      <td>-87.700000</td>\n",
       "      <td>member</td>\n",
       "      <td>00:07:04</td>\n",
       "      <td>5</td>\n",
       "    </tr>\n",
       "    <tr>\n",
       "      <th>2</th>\n",
       "      <td>5262016E0F1F2F9A</td>\n",
       "      <td>electric_bike</td>\n",
       "      <td>2020-12-15 15:04:33</td>\n",
       "      <td>2020-12-15 15:11:28</td>\n",
       "      <td>NaN</td>\n",
       "      <td>NaN</td>\n",
       "      <td>NaN</td>\n",
       "      <td>NaN</td>\n",
       "      <td>41.910000</td>\n",
       "      <td>-87.690000</td>\n",
       "      <td>41.930000</td>\n",
       "      <td>-87.700000</td>\n",
       "      <td>member</td>\n",
       "      <td>00:06:55</td>\n",
       "      <td>2</td>\n",
       "    </tr>\n",
       "    <tr>\n",
       "      <th>3</th>\n",
       "      <td>BE119628E44F871E</td>\n",
       "      <td>electric_bike</td>\n",
       "      <td>2020-12-15 15:54:18</td>\n",
       "      <td>2020-12-15 16:00:11</td>\n",
       "      <td>NaN</td>\n",
       "      <td>NaN</td>\n",
       "      <td>NaN</td>\n",
       "      <td>NaN</td>\n",
       "      <td>41.920000</td>\n",
       "      <td>-87.700000</td>\n",
       "      <td>41.910000</td>\n",
       "      <td>-87.700000</td>\n",
       "      <td>member</td>\n",
       "      <td>00:05:53</td>\n",
       "      <td>2</td>\n",
       "    </tr>\n",
       "    <tr>\n",
       "      <th>4</th>\n",
       "      <td>69AF78D57854E110</td>\n",
       "      <td>electric_bike</td>\n",
       "      <td>2020-12-22 12:08:17</td>\n",
       "      <td>2020-12-22 12:10:59</td>\n",
       "      <td>NaN</td>\n",
       "      <td>NaN</td>\n",
       "      <td>NaN</td>\n",
       "      <td>NaN</td>\n",
       "      <td>41.800000</td>\n",
       "      <td>-87.590000</td>\n",
       "      <td>41.800000</td>\n",
       "      <td>-87.590000</td>\n",
       "      <td>member</td>\n",
       "      <td>00:02:42</td>\n",
       "      <td>2</td>\n",
       "    </tr>\n",
       "  </tbody>\n",
       "</table>\n",
       "</div>"
      ],
      "text/plain": [
       "            ride_id  rideable_type          started_at            ended_at  \\\n",
       "0  70B6A9A437D4C30D   classic_bike 2020-12-27 12:44:29 2020-12-27 12:55:06   \n",
       "1  158A465D4E74C54A  electric_bike 2020-12-18 17:37:15 2020-12-18 17:44:19   \n",
       "2  5262016E0F1F2F9A  electric_bike 2020-12-15 15:04:33 2020-12-15 15:11:28   \n",
       "3  BE119628E44F871E  electric_bike 2020-12-15 15:54:18 2020-12-15 16:00:11   \n",
       "4  69AF78D57854E110  electric_bike 2020-12-22 12:08:17 2020-12-22 12:10:59   \n",
       "\n",
       "           start_station_name start_station_id           end_station_name  \\\n",
       "0  Aberdeen St & Jackson Blvd            13157  Desplaines St & Kinzie St   \n",
       "1                         NaN              NaN                        NaN   \n",
       "2                         NaN              NaN                        NaN   \n",
       "3                         NaN              NaN                        NaN   \n",
       "4                         NaN              NaN                        NaN   \n",
       "\n",
       "  end_station_id  start_lat  start_lng    end_lat    end_lng member_casual  \\\n",
       "0   TA1306000003  41.877726 -87.654787  41.888716 -87.644448        member   \n",
       "1            NaN  41.930000 -87.700000  41.910000 -87.700000        member   \n",
       "2            NaN  41.910000 -87.690000  41.930000 -87.700000        member   \n",
       "3            NaN  41.920000 -87.700000  41.910000 -87.700000        member   \n",
       "4            NaN  41.800000 -87.590000  41.800000 -87.590000        member   \n",
       "\n",
       "  duration  day_of_week  \n",
       "0 00:10:37            7  \n",
       "1 00:07:04            5  \n",
       "2 00:06:55            2  \n",
       "3 00:05:53            2  \n",
       "4 00:02:42            2  "
      ]
     },
     "execution_count": 7,
     "metadata": {},
     "output_type": "execute_result"
    }
   ],
   "source": [
    "df.head()"
   ]
  },
  {
   "cell_type": "markdown",
   "id": "59f1ddea",
   "metadata": {},
   "source": [
    "Trip duration ranges from -1 day to 38 days. Negative duration is not meaningful in the real life. Therefore, the trip record rows with zero or negative duration are eliminated from the study."
   ]
  },
  {
   "cell_type": "code",
   "execution_count": 8,
   "id": "e6d83ace",
   "metadata": {},
   "outputs": [
    {
     "data": {
      "text/plain": [
       "(Timedelta('38 days 20:24:09'), Timedelta('-21 days +19:50:02'))"
      ]
     },
     "execution_count": 8,
     "metadata": {},
     "output_type": "execute_result"
    }
   ],
   "source": [
    "max(df[\"duration\"]), min(df[\"duration\"])"
   ]
  },
  {
   "cell_type": "code",
   "execution_count": 8,
   "id": "1ade151b",
   "metadata": {},
   "outputs": [
    {
     "data": {
      "text/plain": [
       "(5478022, 15)"
      ]
     },
     "execution_count": 8,
     "metadata": {},
     "output_type": "execute_result"
    }
   ],
   "source": [
    "zero = timedelta(0)\n",
    "df = df[df[\"duration\"]>zero]\n",
    "df.shape"
   ]
  },
  {
   "cell_type": "code",
   "execution_count": 23,
   "id": "9af5268a",
   "metadata": {},
   "outputs": [
    {
     "data": {
      "text/plain": [
       "array([2488929, 2989093], dtype=int64)"
      ]
     },
     "execution_count": 23,
     "metadata": {},
     "output_type": "execute_result"
    }
   ],
   "source": [
    "counts = df[[\"ride_id\", \"member_casual\"]].groupby([\"member_casual\"]).count()\n",
    "data = counts[[\"ride_id\"]].values.reshape(-1)\n",
    "data"
   ]
  },
  {
   "cell_type": "code",
   "execution_count": 24,
   "id": "db463ae3",
   "metadata": {},
   "outputs": [
    {
     "name": "stderr",
     "output_type": "stream",
     "text": [
      "C:\\Users\\zhangsy1\\Anaconda3\\envs\\pytorchenv\\lib\\site-packages\\ipykernel_launcher.py:2: SettingWithCopyWarning: \n",
      "A value is trying to be set on a copy of a slice from a DataFrame.\n",
      "Try using .loc[row_indexer,col_indexer] = value instead\n",
      "\n",
      "See the caveats in the documentation: http://pandas.pydata.org/pandas-docs/stable/indexing.html#indexing-view-versus-copy\n",
      "  \n"
     ]
    },
    {
     "data": {
      "text/html": [
       "<div>\n",
       "<style scoped>\n",
       "    .dataframe tbody tr th:only-of-type {\n",
       "        vertical-align: middle;\n",
       "    }\n",
       "\n",
       "    .dataframe tbody tr th {\n",
       "        vertical-align: top;\n",
       "    }\n",
       "\n",
       "    .dataframe thead th {\n",
       "        text-align: right;\n",
       "    }\n",
       "</style>\n",
       "<table border=\"1\" class=\"dataframe\">\n",
       "  <thead>\n",
       "    <tr style=\"text-align: right;\">\n",
       "      <th></th>\n",
       "      <th>duration_min</th>\n",
       "    </tr>\n",
       "    <tr>\n",
       "      <th>member_casual</th>\n",
       "      <th></th>\n",
       "    </tr>\n",
       "  </thead>\n",
       "  <tbody>\n",
       "    <tr>\n",
       "      <th>casual</th>\n",
       "      <td>32.182046</td>\n",
       "    </tr>\n",
       "    <tr>\n",
       "      <th>member</th>\n",
       "      <td>13.760976</td>\n",
       "    </tr>\n",
       "  </tbody>\n",
       "</table>\n",
       "</div>"
      ],
      "text/plain": [
       "               duration_min\n",
       "member_casual              \n",
       "casual            32.182046\n",
       "member            13.760976"
      ]
     },
     "execution_count": 24,
     "metadata": {},
     "output_type": "execute_result"
    }
   ],
   "source": [
    "avg_df = df[[\"duration\", \"member_casual\"]]\n",
    "avg_df[\"duration_min\"] = np.round(df[\"duration\"].dt.total_seconds().div(60),2)\n",
    "avg_df.drop([\"duration\"],axis=1,inplace=True)\n",
    "avg_df = avg_df[[avg_df.columns[1], avg_df.columns[0]]]\n",
    "avg = avg_df.groupby([\"member_casual\"]).mean()\n",
    "avg"
   ]
  },
  {
   "cell_type": "markdown",
   "id": "466cc1bc",
   "metadata": {},
   "source": [
    "Customers who purchase single-ride or full-day passes are referred to as casual riders. Customers who purchase annual memberships are Cyclistic members."
   ]
  },
  {
   "cell_type": "code",
   "execution_count": 53,
   "id": "269178cb",
   "metadata": {},
   "outputs": [
    {
     "data": {
      "image/png": "[encoded data removed]",
      "text/plain": [
       "<Figure size 720x360 with 2 Axes>"
      ]
     },
     "metadata": {
      "needs_background": "light"
     },
     "output_type": "display_data"
    }
   ],
   "source": [
    "import matplotlib.pyplot as plt\n",
    "import seaborn as sns\n",
    "%matplotlib inline\n",
    "\n",
    "#define Seaborn color palette to use\n",
    "colors = sns.color_palette('pastel')\n",
    "\n",
    "fig,axes=plt.subplots(1,2,figsize=(10,5))\n",
    "\n",
    "#create pie chart\n",
    "# plt.figure(figsize=(10,5))\n",
    "axes[0].pie(data, labels = counts.index, colors = colors, autopct='%.0f%%')\n",
    "axes[0].title.set_text(\"Trip distribution by customer type\")\n",
    "sns.barplot(x=avg.index,y=avg[\"duration_min\"],ax=axes[1],palette='pastel')\n",
    "axes[1].title.set_text(\"Average trip duration in minutes\")\n",
    "axes[1].set_xlabel('')\n",
    "axes[1].set_ylabel('')\n",
    "axes[1].set_ylim(0,40)\n",
    "axes[1].spines[\"right\"].set_visible(False)\n",
    "axes[1].spines[\"top\"].set_visible(False)\n",
    "plt.show()"
   ]
  },
  {
   "cell_type": "code",
   "execution_count": 12,
   "id": "984b2538",
   "metadata": {},
   "outputs": [
    {
     "name": "stderr",
     "output_type": "stream",
     "text": [
      "C:\\Users\\zhangsy1\\Anaconda3\\envs\\pytorchenv\\lib\\site-packages\\ipykernel_launcher.py:2: SettingWithCopyWarning: \n",
      "A value is trying to be set on a copy of a slice from a DataFrame.\n",
      "Try using .loc[row_indexer,col_indexer] = value instead\n",
      "\n",
      "See the caveats in the documentation: http://pandas.pydata.org/pandas-docs/stable/indexing.html#indexing-view-versus-copy\n",
      "  \n",
      "C:\\Users\\zhangsy1\\Anaconda3\\envs\\pytorchenv\\lib\\site-packages\\pandas\\core\\frame.py:3940: SettingWithCopyWarning: \n",
      "A value is trying to be set on a copy of a slice from a DataFrame\n",
      "\n",
      "See the caveats in the documentation: http://pandas.pydata.org/pandas-docs/stable/indexing.html#indexing-view-versus-copy\n",
      "  errors=errors)\n"
     ]
    },
    {
     "data": {
      "text/html": [
       "<div>\n",
       "<style scoped>\n",
       "    .dataframe tbody tr th:only-of-type {\n",
       "        vertical-align: middle;\n",
       "    }\n",
       "\n",
       "    .dataframe tbody tr th {\n",
       "        vertical-align: top;\n",
       "    }\n",
       "\n",
       "    .dataframe thead th {\n",
       "        text-align: right;\n",
       "    }\n",
       "</style>\n",
       "<table border=\"1\" class=\"dataframe\">\n",
       "  <thead>\n",
       "    <tr style=\"text-align: right;\">\n",
       "      <th></th>\n",
       "      <th>duration_min</th>\n",
       "      <th>member_casual</th>\n",
       "    </tr>\n",
       "  </thead>\n",
       "  <tbody>\n",
       "    <tr>\n",
       "      <th>0</th>\n",
       "      <td>10.62</td>\n",
       "      <td>member</td>\n",
       "    </tr>\n",
       "    <tr>\n",
       "      <th>1</th>\n",
       "      <td>7.07</td>\n",
       "      <td>member</td>\n",
       "    </tr>\n",
       "    <tr>\n",
       "      <th>2</th>\n",
       "      <td>6.92</td>\n",
       "      <td>member</td>\n",
       "    </tr>\n",
       "    <tr>\n",
       "      <th>3</th>\n",
       "      <td>5.88</td>\n",
       "      <td>member</td>\n",
       "    </tr>\n",
       "    <tr>\n",
       "      <th>4</th>\n",
       "      <td>2.70</td>\n",
       "      <td>member</td>\n",
       "    </tr>\n",
       "  </tbody>\n",
       "</table>\n",
       "</div>"
      ],
      "text/plain": [
       "   duration_min member_casual\n",
       "0         10.62        member\n",
       "1          7.07        member\n",
       "2          6.92        member\n",
       "3          5.88        member\n",
       "4          2.70        member"
      ]
     },
     "execution_count": 12,
     "metadata": {},
     "output_type": "execute_result"
    }
   ],
   "source": [
    "data = df[[\"duration\", \"member_casual\"]]\n",
    "data[\"duration_min\"] = np.round(df[\"duration\"].dt.total_seconds().div(60),2)\n",
    "data.drop([\"duration\"],axis=1,inplace=True)\n",
    "data = data[[data.columns[1], data.columns[0]]]\n",
    "data.head()"
   ]
  },
  {
   "cell_type": "code",
   "execution_count": 13,
   "id": "544d5fa2",
   "metadata": {},
   "outputs": [
    {
     "name": "stderr",
     "output_type": "stream",
     "text": [
      "C:\\Users\\zhangsy1\\Anaconda3\\envs\\pytorchenv\\lib\\site-packages\\matplotlib\\figure.py:445: UserWarning: Matplotlib is currently using module://matplotlib_inline.backend_inline, which is a non-GUI backend, so cannot show the figure.\n",
      "  % get_backend())\n"
     ]
    },
    {
     "data": {
      "image/png": "[encoded data removed]",
      "text/plain": [
       "<Figure size 720x360 with 2 Axes>"
      ]
     },
     "metadata": {
      "needs_background": "light"
     },
     "output_type": "display_data"
    }
   ],
   "source": [
    "%matplotlib inline\n",
    "\n",
    "fig,axes=plt.subplots(1,2,figsize=(10,5))\n",
    "sns.distplot(data[data[\"member_casual\"]==\"member\"][\"duration_min\"], bins=[10*x for x in range(11)], kde=False, ax=axes[0], color=colors[1], label=\"Member customer\")\n",
    "axes[0].set_ylim(0, 1600000)\n",
    "axes[0].set_xlabel('')\n",
    "axes[0].set_ylabel('Number of trips')\n",
    "axes[0].legend(loc=\"upper right\")\n",
    "sns.distplot(data[data[\"member_casual\"]==\"casual\"][\"duration_min\"], bins=[10*x for x in range(11)], kde=False, ax=axes[1], color=colors[0], label=\"Casual customer\")\n",
    "axes[1].set_ylim(0, 1600000)\n",
    "axes[1].set_xlabel('')\n",
    "axes[1].legend(loc=\"upper right\")\n",
    "axes[1].get_yaxis().set_ticks([])\n",
    "fig.text(0.4, 0.02, \"Trip duration in minutes\", fontsize=12)\n",
    "fig.show()"
   ]
  },
  {
   "cell_type": "code",
   "execution_count": 14,
   "id": "f0cc0c7e",
   "metadata": {},
   "outputs": [
    {
     "data": {
      "text/html": [
       "<div>\n",
       "<style scoped>\n",
       "    .dataframe tbody tr th:only-of-type {\n",
       "        vertical-align: middle;\n",
       "    }\n",
       "\n",
       "    .dataframe tbody tr th {\n",
       "        vertical-align: top;\n",
       "    }\n",
       "\n",
       "    .dataframe thead th {\n",
       "        text-align: right;\n",
       "    }\n",
       "</style>\n",
       "<table border=\"1\" class=\"dataframe\">\n",
       "  <thead>\n",
       "    <tr style=\"text-align: right;\">\n",
       "      <th></th>\n",
       "      <th>ride_id</th>\n",
       "      <th>member_casual</th>\n",
       "    </tr>\n",
       "    <tr>\n",
       "      <th>day_of_week</th>\n",
       "      <th></th>\n",
       "      <th></th>\n",
       "    </tr>\n",
       "  </thead>\n",
       "  <tbody>\n",
       "    <tr>\n",
       "      <th>1</th>\n",
       "      <td>407597</td>\n",
       "      <td>407597</td>\n",
       "    </tr>\n",
       "    <tr>\n",
       "      <th>2</th>\n",
       "      <td>460477</td>\n",
       "      <td>460477</td>\n",
       "    </tr>\n",
       "    <tr>\n",
       "      <th>3</th>\n",
       "      <td>460728</td>\n",
       "      <td>460728</td>\n",
       "    </tr>\n",
       "    <tr>\n",
       "      <th>4</th>\n",
       "      <td>433066</td>\n",
       "      <td>433066</td>\n",
       "    </tr>\n",
       "    <tr>\n",
       "      <th>5</th>\n",
       "      <td>429301</td>\n",
       "      <td>429301</td>\n",
       "    </tr>\n",
       "    <tr>\n",
       "      <th>6</th>\n",
       "      <td>425438</td>\n",
       "      <td>425438</td>\n",
       "    </tr>\n",
       "    <tr>\n",
       "      <th>7</th>\n",
       "      <td>372486</td>\n",
       "      <td>372486</td>\n",
       "    </tr>\n",
       "  </tbody>\n",
       "</table>\n",
       "</div>"
      ],
      "text/plain": [
       "             ride_id  member_casual\n",
       "day_of_week                        \n",
       "1             407597         407597\n",
       "2             460477         460477\n",
       "3             460728         460728\n",
       "4             433066         433066\n",
       "5             429301         429301\n",
       "6             425438         425438\n",
       "7             372486         372486"
      ]
     },
     "execution_count": 14,
     "metadata": {},
     "output_type": "execute_result"
    }
   ],
   "source": [
    "df_week = df[[\"ride_id\", \"member_casual\", \"day_of_week\"]]\n",
    "member_week = df_week[df_week[\"member_casual\"]==\"member\"].groupby([\"day_of_week\"]).count()\n",
    "casual_week = df_week[df_week[\"member_casual\"]==\"casual\"].groupby([\"day_of_week\"]).count()\n",
    "member_week"
   ]
  },
  {
   "cell_type": "code",
   "execution_count": 15,
   "id": "1d0be44a",
   "metadata": {},
   "outputs": [
    {
     "data": {
      "image/png": "[encoded data removed]",
      "text/plain": [
       "<Figure size 720x360 with 2 Axes>"
      ]
     },
     "metadata": {
      "needs_background": "light"
     },
     "output_type": "display_data"
    }
   ],
   "source": [
    "fig,axes=plt.subplots(1,2,figsize=(10,5))\n",
    "sns.barplot(x=member_week.index, y=member_week[\"ride_id\"]*100/np.sum(member_week[\"ride_id\"]),ax=axes[0],color=colors[0],label=\"Member customer\")\n",
    "axes[0].set_ylim(0, 30)\n",
    "axes[0].set_ylabel('Percentage of total trips (%)')\n",
    "axes[0].set_xlabel('')\n",
    "axes[0].legend(loc=\"upper right\")\n",
    "sns.barplot(x=casual_week.index, y=casual_week[\"ride_id\"]*100/np.sum(casual_week[\"ride_id\"]),ax=axes[1],color=colors[1],label=\"Casual customer\")\n",
    "axes[1].set_ylim(0, 30)\n",
    "axes[1].set_ylabel('')\n",
    "axes[1].set_xlabel('')\n",
    "axes[1].get_yaxis().set_ticks([])\n",
    "axes[1].legend(loc=\"upper right\")\n",
    "fig.text(0.45, 0.02, \"Weekday of each trip\", fontsize=10)\n",
    "fig.show()\n"
   ]
  },
  {
   "cell_type": "code",
   "execution_count": 16,
   "id": "a0345a27",
   "metadata": {},
   "outputs": [
    {
     "name": "stderr",
     "output_type": "stream",
     "text": [
      "C:\\Users\\zhangsy1\\Anaconda3\\envs\\pytorchenv\\lib\\site-packages\\ipykernel_launcher.py:2: SettingWithCopyWarning: \n",
      "A value is trying to be set on a copy of a slice from a DataFrame.\n",
      "Try using .loc[row_indexer,col_indexer] = value instead\n",
      "\n",
      "See the caveats in the documentation: http://pandas.pydata.org/pandas-docs/stable/indexing.html#indexing-view-versus-copy\n",
      "  \n"
     ]
    }
   ],
   "source": [
    "data = frame[[\"duration\",\"member_casual\",\"day_of_week\"]]\n",
    "data[\"duration_min\"] = np.round(df[\"duration\"].dt.total_seconds().div(60),2)\n",
    "data.drop([\"duration\"],axis=1,inplace=True)\n",
    "\n",
    "m_avg_d = data[data[\"member_casual\"]==\"member\"].groupby([\"day_of_week\"]).mean()\n",
    "c_avg_d = data[data[\"member_casual\"]==\"casual\"].groupby([\"day_of_week\"]).mean()"
   ]
  },
  {
   "cell_type": "code",
   "execution_count": 17,
   "id": "197578a5",
   "metadata": {},
   "outputs": [
    {
     "data": {
      "image/png": "[encoded data removed]",
      "text/plain": [
       "<Figure size 720x360 with 2 Axes>"
      ]
     },
     "metadata": {
      "needs_background": "light"
     },
     "output_type": "display_data"
    }
   ],
   "source": [
    "fig,axes=plt.subplots(1,2,figsize=(10,5))\n",
    "sns.barplot(x=m_avg_d.index, y=m_avg_d[\"duration_min\"],ax=axes[0],color=colors[0],label=\"Member customer\")\n",
    "axes[0].set_ylim(0, 50)\n",
    "axes[0].set_ylabel('Average trip duration in minutes')\n",
    "axes[0].set_xlabel('')\n",
    "axes[0].legend(loc=\"upper right\")\n",
    "sns.barplot(x=c_avg_d.index, y=c_avg_d[\"duration_min\"],ax=axes[1],color=colors[1],label=\"Casual customer\")\n",
    "axes[1].set_ylim(0, 50)\n",
    "axes[1].set_ylabel('')\n",
    "axes[1].set_xlabel('')\n",
    "axes[1].get_yaxis().set_ticks([])\n",
    "axes[1].legend(loc=\"upper right\")\n",
    "fig.text(0.45, 0.02, \"Weekday of each trip\", fontsize=10)\n",
    "fig.show()\n"
   ]
  },
  {
   "cell_type": "code",
   "execution_count": 18,
   "id": "e7e005ee",
   "metadata": {},
   "outputs": [],
   "source": [
    "ride_type_m = frame[frame[\"member_casual\"]==\"member\"].groupby(\"rideable_type\").count()[\"ride_id\"]\n",
    "ride_type_m = ride_type_m/np.sum(ride_type_m)*100\n",
    "ride_type_c = frame[frame[\"member_casual\"]==\"casual\"].groupby(\"rideable_type\").count()[\"ride_id\"]\n",
    "ride_type_c = ride_type_c/np.sum(ride_type_c)*100"
   ]
  },
  {
   "cell_type": "code",
   "execution_count": 54,
   "id": "bd10bc17",
   "metadata": {},
   "outputs": [
    {
     "data": {
      "image/png": "[encoded data removed]",
      "text/plain": [
       "<Figure size 720x360 with 2 Axes>"
      ]
     },
     "metadata": {},
     "output_type": "display_data"
    }
   ],
   "source": [
    "fig,axes=plt.subplots(1,2,figsize=(10,5))\n",
    "axes[0].pie(ride_type_m, colors = [\"lightskyblue\",\"paleturquoise\",\"azure\"], autopct='%.0f%%')\n",
    "axes[0].set_title(\"Member customer\")\n",
    "axes[0].legend(ride_type_m.index,loc=\"lower left\")\n",
    "axes[1].pie(ride_type_c,colors = [\"sandybrown\",\"wheat\",\"papayawhip\"], autopct='%.0f%%')\n",
    "axes[1].set_title(\"Casual customer\")\n",
    "axes[1].legend(ride_type_c.index,loc=\"lower left\")\n",
    "plt.suptitle(\"Trip amount distribution by ride types\", fontsize=15)\n",
    "plt.show()"
   ]
  },
  {
   "cell_type": "code",
   "execution_count": 57,
   "id": "b16d519f",
   "metadata": {},
   "outputs": [
    {
     "name": "stderr",
     "output_type": "stream",
     "text": [
      "C:\\Users\\zhangsy1\\Anaconda3\\envs\\pytorchenv\\lib\\site-packages\\ipykernel_launcher.py:2: SettingWithCopyWarning: \n",
      "A value is trying to be set on a copy of a slice from a DataFrame.\n",
      "Try using .loc[row_indexer,col_indexer] = value instead\n",
      "\n",
      "See the caveats in the documentation: http://pandas.pydata.org/pandas-docs/stable/indexing.html#indexing-view-versus-copy\n",
      "  \n"
     ]
    },
    {
     "data": {
      "text/html": [
       "<div>\n",
       "<style scoped>\n",
       "    .dataframe tbody tr th:only-of-type {\n",
       "        vertical-align: middle;\n",
       "    }\n",
       "\n",
       "    .dataframe tbody tr th {\n",
       "        vertical-align: top;\n",
       "    }\n",
       "\n",
       "    .dataframe thead th {\n",
       "        text-align: right;\n",
       "    }\n",
       "</style>\n",
       "<table border=\"1\" class=\"dataframe\">\n",
       "  <thead>\n",
       "    <tr style=\"text-align: right;\">\n",
       "      <th></th>\n",
       "      <th>ride_id</th>\n",
       "      <th>started_at</th>\n",
       "      <th>member_casual</th>\n",
       "      <th>month</th>\n",
       "    </tr>\n",
       "  </thead>\n",
       "  <tbody>\n",
       "    <tr>\n",
       "      <th>0</th>\n",
       "      <td>70B6A9A437D4C30D</td>\n",
       "      <td>2020-12-27 12:44:29</td>\n",
       "      <td>member</td>\n",
       "      <td>12</td>\n",
       "    </tr>\n",
       "    <tr>\n",
       "      <th>1</th>\n",
       "      <td>158A465D4E74C54A</td>\n",
       "      <td>2020-12-18 17:37:15</td>\n",
       "      <td>member</td>\n",
       "      <td>12</td>\n",
       "    </tr>\n",
       "    <tr>\n",
       "      <th>2</th>\n",
       "      <td>5262016E0F1F2F9A</td>\n",
       "      <td>2020-12-15 15:04:33</td>\n",
       "      <td>member</td>\n",
       "      <td>12</td>\n",
       "    </tr>\n",
       "    <tr>\n",
       "      <th>3</th>\n",
       "      <td>BE119628E44F871E</td>\n",
       "      <td>2020-12-15 15:54:18</td>\n",
       "      <td>member</td>\n",
       "      <td>12</td>\n",
       "    </tr>\n",
       "    <tr>\n",
       "      <th>4</th>\n",
       "      <td>69AF78D57854E110</td>\n",
       "      <td>2020-12-22 12:08:17</td>\n",
       "      <td>member</td>\n",
       "      <td>12</td>\n",
       "    </tr>\n",
       "  </tbody>\n",
       "</table>\n",
       "</div>"
      ],
      "text/plain": [
       "            ride_id          started_at member_casual  month\n",
       "0  70B6A9A437D4C30D 2020-12-27 12:44:29        member     12\n",
       "1  158A465D4E74C54A 2020-12-18 17:37:15        member     12\n",
       "2  5262016E0F1F2F9A 2020-12-15 15:04:33        member     12\n",
       "3  BE119628E44F871E 2020-12-15 15:54:18        member     12\n",
       "4  69AF78D57854E110 2020-12-22 12:08:17        member     12"
      ]
     },
     "execution_count": 57,
     "metadata": {},
     "output_type": "execute_result"
    }
   ],
   "source": [
    "df_month = frame[[\"ride_id\",\"started_at\",\"member_casual\"]]\n",
    "df_month[\"month\"] = df_month[\"started_at\"].dt.month\n",
    "df_month.head()"
   ]
  },
  {
   "cell_type": "code",
   "execution_count": 62,
   "id": "e71d7a5e",
   "metadata": {},
   "outputs": [
    {
     "data": {
      "text/plain": [
       "member_casual  month\n",
       "casual         1         18117\n",
       "               2         10131\n",
       "               3         84033\n",
       "               4        136601\n",
       "               5        256916\n",
       "               6        370681\n",
       "               7        442056\n",
       "               8        412671\n",
       "               9        363890\n",
       "               10       257242\n",
       "               11       106929\n",
       "               12        30080\n",
       "member         1         78717\n",
       "               2         39491\n",
       "               3        144463\n",
       "               4        200629\n",
       "               5        274717\n",
       "               6        358914\n",
       "               7        380354\n",
       "               8        391681\n",
       "               9        392257\n",
       "               10       373984\n",
       "               11       253049\n",
       "               12       101493\n",
       "Name: ride_id, dtype: int64"
      ]
     },
     "execution_count": 62,
     "metadata": {},
     "output_type": "execute_result"
    }
   ],
   "source": [
    "counts = df_month.groupby([\"member_casual\",\"month\"]).count()[\"ride_id\"]\n",
    "counts"
   ]
  },
  {
   "cell_type": "code",
   "execution_count": 131,
   "id": "078c850e",
   "metadata": {},
   "outputs": [
    {
     "name": "stdout",
     "output_type": "stream",
     "text": [
      "12 12\n"
     ]
    },
    {
     "data": {
      "image/png": "[encoded data removed]",
      "text/plain": [
       "<Figure size 720x360 with 1 Axes>"
      ]
     },
     "metadata": {
      "needs_background": "light"
     },
     "output_type": "display_data"
    }
   ],
   "source": [
    "casual = np.concatenate([counts.values[11:12],counts.values[:11]])\n",
    "member = np.concatenate([counts.values[23:24],counts.values[12:23]])\n",
    "print(len(casual),len(member))\n",
    "month = [\"Dec\",\"Jan\",\"Feb\",\"Mar\",\"Apr\",\"May\",\"Jun\",\"Jul\",\"Aug\",\"Sep\",\"Oct\",\"Nov\"]\n",
    "\n",
    "y1 = member\n",
    "y2 = casual\n",
    "\n",
    "x = np.arange(len(y1))\n",
    "width = 0.20\n",
    "\n",
    "fig, axes = plt.subplots(ncols=1, nrows=1, figsize=(10,5))\n",
    "plt.title('Monthly trip amount during last 12 months')\n",
    "# plt.xlabel('Parameters')\n",
    "plt.ylabel('Trips')\n",
    "axes.bar(x, y1, width=-1.*width, align='edge', label=\"member\", color=colors[0])\n",
    "axes.bar(x, y2, width=width, align='edge', color=colors[1], label=\"casual\")\n",
    "axes.set_xticks(x)\n",
    "axes.set_xticklabels(month)\n",
    "plt.legend(loc=\"upper left\")\n",
    "plt.show()\n"
   ]
  },
  {
   "cell_type": "code",
   "execution_count": null,
   "id": "a4550964",
   "metadata": {},
   "outputs": [],
   "source": []
  }
 ],
 "metadata": {
  "kernelspec": {
   "display_name": "Python 3 (ipykernel)",
   "language": "python",
   "name": "python3"
  },
  "language_info": {
   "codemirror_mode": {
    "name": "ipython",
    "version": 3
   },
   "file_extension": ".py",
   "mimetype": "text/x-python",
   "name": "python",
   "nbconvert_exporter": "python",
   "pygments_lexer": "ipython3",
   "version": "3.7.3"
  }
 },
 "nbformat": 4,
 "nbformat_minor": 5
}
